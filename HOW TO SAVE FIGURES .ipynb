{
 "cells": [
  {
   "cell_type": "code",
   "execution_count": 1,
   "id": "0e441cf5",
   "metadata": {},
   "outputs": [],
   "source": [
    "import matplotlib.pyplot as plt\n",
    "import pandas as pd\n",
    "import numpy as np\n",
    "import random"
   ]
  },
  {
   "cell_type": "code",
   "execution_count": 2,
   "id": "6be21d74",
   "metadata": {},
   "outputs": [
    {
     "ename": "TypeError",
     "evalue": "FigureCanvasAgg.print_png() got an unexpected keyword argument 'quality'",
     "output_type": "error",
     "traceback": [
      "\u001b[1;31m---------------------------------------------------------------------------\u001b[0m",
      "\u001b[1;31mTypeError\u001b[0m                                 Traceback (most recent call last)",
      "Cell \u001b[1;32mIn[2], line 2\u001b[0m\n\u001b[0;32m      1\u001b[0m plt\u001b[38;5;241m.\u001b[39mpie([\u001b[38;5;241m40\u001b[39m,\u001b[38;5;241m30\u001b[39m,\u001b[38;5;241m20\u001b[39m])\n\u001b[1;32m----> 2\u001b[0m \u001b[43mplt\u001b[49m\u001b[38;5;241;43m.\u001b[39;49m\u001b[43msavefig\u001b[49m\u001b[43m(\u001b[49m\u001b[38;5;124;43m\"\u001b[39;49m\u001b[38;5;124;43mpie_char\u001b[39;49m\u001b[38;5;124;43m\"\u001b[39;49m\u001b[43m,\u001b[49m\u001b[43mdpi\u001b[49m\u001b[38;5;241;43m=\u001b[39;49m\u001b[43m \u001b[49m\u001b[38;5;241;43m1000\u001b[39;49m\u001b[43m,\u001b[49m\u001b[43m \u001b[49m\u001b[43mquality\u001b[49m\u001b[38;5;241;43m=\u001b[39;49m\u001b[38;5;241;43m99\u001b[39;49m\u001b[43m,\u001b[49m\u001b[43m \u001b[49m\u001b[43mfacecolor\u001b[49m\u001b[38;5;241;43m=\u001b[39;49m\u001b[38;5;124;43m\"\u001b[39;49m\u001b[38;5;124;43mg\u001b[39;49m\u001b[38;5;124;43m\"\u001b[39;49m\u001b[43m)\u001b[49m\n\u001b[0;32m      3\u001b[0m plt\u001b[38;5;241m.\u001b[39mshow()\n",
      "File \u001b[1;32m~\\anaconda3\\lib\\site-packages\\matplotlib\\pyplot.py:996\u001b[0m, in \u001b[0;36msavefig\u001b[1;34m(*args, **kwargs)\u001b[0m\n\u001b[0;32m    993\u001b[0m \u001b[38;5;129m@_copy_docstring_and_deprecators\u001b[39m(Figure\u001b[38;5;241m.\u001b[39msavefig)\n\u001b[0;32m    994\u001b[0m \u001b[38;5;28;01mdef\u001b[39;00m \u001b[38;5;21msavefig\u001b[39m(\u001b[38;5;241m*\u001b[39margs, \u001b[38;5;241m*\u001b[39m\u001b[38;5;241m*\u001b[39mkwargs):\n\u001b[0;32m    995\u001b[0m     fig \u001b[38;5;241m=\u001b[39m gcf()\n\u001b[1;32m--> 996\u001b[0m     res \u001b[38;5;241m=\u001b[39m fig\u001b[38;5;241m.\u001b[39msavefig(\u001b[38;5;241m*\u001b[39margs, \u001b[38;5;241m*\u001b[39m\u001b[38;5;241m*\u001b[39mkwargs)\n\u001b[0;32m    997\u001b[0m     fig\u001b[38;5;241m.\u001b[39mcanvas\u001b[38;5;241m.\u001b[39mdraw_idle()  \u001b[38;5;66;03m# Need this if 'transparent=True', to reset colors.\u001b[39;00m\n\u001b[0;32m    998\u001b[0m     \u001b[38;5;28;01mreturn\u001b[39;00m res\n",
      "File \u001b[1;32m~\\anaconda3\\lib\\site-packages\\matplotlib\\figure.py:3328\u001b[0m, in \u001b[0;36mFigure.savefig\u001b[1;34m(self, fname, transparent, **kwargs)\u001b[0m\n\u001b[0;32m   3324\u001b[0m     \u001b[38;5;28;01mfor\u001b[39;00m ax \u001b[38;5;129;01min\u001b[39;00m \u001b[38;5;28mself\u001b[39m\u001b[38;5;241m.\u001b[39maxes:\n\u001b[0;32m   3325\u001b[0m         stack\u001b[38;5;241m.\u001b[39menter_context(\n\u001b[0;32m   3326\u001b[0m             ax\u001b[38;5;241m.\u001b[39mpatch\u001b[38;5;241m.\u001b[39m_cm_set(facecolor\u001b[38;5;241m=\u001b[39m\u001b[38;5;124m'\u001b[39m\u001b[38;5;124mnone\u001b[39m\u001b[38;5;124m'\u001b[39m, edgecolor\u001b[38;5;241m=\u001b[39m\u001b[38;5;124m'\u001b[39m\u001b[38;5;124mnone\u001b[39m\u001b[38;5;124m'\u001b[39m))\n\u001b[1;32m-> 3328\u001b[0m \u001b[38;5;28mself\u001b[39m\u001b[38;5;241m.\u001b[39mcanvas\u001b[38;5;241m.\u001b[39mprint_figure(fname, \u001b[38;5;241m*\u001b[39m\u001b[38;5;241m*\u001b[39mkwargs)\n",
      "File \u001b[1;32m~\\anaconda3\\lib\\site-packages\\matplotlib\\backend_bases.py:2362\u001b[0m, in \u001b[0;36mFigureCanvasBase.print_figure\u001b[1;34m(self, filename, dpi, facecolor, edgecolor, orientation, format, bbox_inches, pad_inches, bbox_extra_artists, backend, **kwargs)\u001b[0m\n\u001b[0;32m   2358\u001b[0m \u001b[38;5;28;01mtry\u001b[39;00m:\n\u001b[0;32m   2359\u001b[0m     \u001b[38;5;66;03m# _get_renderer may change the figure dpi (as vector formats\u001b[39;00m\n\u001b[0;32m   2360\u001b[0m     \u001b[38;5;66;03m# force the figure dpi to 72), so we need to set it again here.\u001b[39;00m\n\u001b[0;32m   2361\u001b[0m     \u001b[38;5;28;01mwith\u001b[39;00m cbook\u001b[38;5;241m.\u001b[39m_setattr_cm(\u001b[38;5;28mself\u001b[39m\u001b[38;5;241m.\u001b[39mfigure, dpi\u001b[38;5;241m=\u001b[39mdpi):\n\u001b[1;32m-> 2362\u001b[0m         result \u001b[38;5;241m=\u001b[39m print_method(\n\u001b[0;32m   2363\u001b[0m             filename,\n\u001b[0;32m   2364\u001b[0m             facecolor\u001b[38;5;241m=\u001b[39mfacecolor,\n\u001b[0;32m   2365\u001b[0m             edgecolor\u001b[38;5;241m=\u001b[39medgecolor,\n\u001b[0;32m   2366\u001b[0m             orientation\u001b[38;5;241m=\u001b[39morientation,\n\u001b[0;32m   2367\u001b[0m             bbox_inches_restore\u001b[38;5;241m=\u001b[39m_bbox_inches_restore,\n\u001b[0;32m   2368\u001b[0m             \u001b[38;5;241m*\u001b[39m\u001b[38;5;241m*\u001b[39mkwargs)\n\u001b[0;32m   2369\u001b[0m \u001b[38;5;28;01mfinally\u001b[39;00m:\n\u001b[0;32m   2370\u001b[0m     \u001b[38;5;28;01mif\u001b[39;00m bbox_inches \u001b[38;5;129;01mand\u001b[39;00m restore_bbox:\n",
      "File \u001b[1;32m~\\anaconda3\\lib\\site-packages\\matplotlib\\backend_bases.py:2228\u001b[0m, in \u001b[0;36mFigureCanvasBase._switch_canvas_and_return_print_method.<locals>.<lambda>\u001b[1;34m(*args, **kwargs)\u001b[0m\n\u001b[0;32m   2224\u001b[0m     optional_kws \u001b[38;5;241m=\u001b[39m {  \u001b[38;5;66;03m# Passed by print_figure for other renderers.\u001b[39;00m\n\u001b[0;32m   2225\u001b[0m         \u001b[38;5;124m\"\u001b[39m\u001b[38;5;124mdpi\u001b[39m\u001b[38;5;124m\"\u001b[39m, \u001b[38;5;124m\"\u001b[39m\u001b[38;5;124mfacecolor\u001b[39m\u001b[38;5;124m\"\u001b[39m, \u001b[38;5;124m\"\u001b[39m\u001b[38;5;124medgecolor\u001b[39m\u001b[38;5;124m\"\u001b[39m, \u001b[38;5;124m\"\u001b[39m\u001b[38;5;124morientation\u001b[39m\u001b[38;5;124m\"\u001b[39m,\n\u001b[0;32m   2226\u001b[0m         \u001b[38;5;124m\"\u001b[39m\u001b[38;5;124mbbox_inches_restore\u001b[39m\u001b[38;5;124m\"\u001b[39m}\n\u001b[0;32m   2227\u001b[0m     skip \u001b[38;5;241m=\u001b[39m optional_kws \u001b[38;5;241m-\u001b[39m {\u001b[38;5;241m*\u001b[39minspect\u001b[38;5;241m.\u001b[39msignature(meth)\u001b[38;5;241m.\u001b[39mparameters}\n\u001b[1;32m-> 2228\u001b[0m     print_method \u001b[38;5;241m=\u001b[39m functools\u001b[38;5;241m.\u001b[39mwraps(meth)(\u001b[38;5;28;01mlambda\u001b[39;00m \u001b[38;5;241m*\u001b[39margs, \u001b[38;5;241m*\u001b[39m\u001b[38;5;241m*\u001b[39mkwargs: meth(\n\u001b[0;32m   2229\u001b[0m         \u001b[38;5;241m*\u001b[39margs, \u001b[38;5;241m*\u001b[39m\u001b[38;5;241m*\u001b[39m{k: v \u001b[38;5;28;01mfor\u001b[39;00m k, v \u001b[38;5;129;01min\u001b[39;00m kwargs\u001b[38;5;241m.\u001b[39mitems() \u001b[38;5;28;01mif\u001b[39;00m k \u001b[38;5;129;01mnot\u001b[39;00m \u001b[38;5;129;01min\u001b[39;00m skip}))\n\u001b[0;32m   2230\u001b[0m \u001b[38;5;28;01melse\u001b[39;00m:  \u001b[38;5;66;03m# Let third-parties do as they see fit.\u001b[39;00m\n\u001b[0;32m   2231\u001b[0m     print_method \u001b[38;5;241m=\u001b[39m meth\n",
      "\u001b[1;31mTypeError\u001b[0m: FigureCanvasAgg.print_png() got an unexpected keyword argument 'quality'"
     ]
    },
    {
     "data": {
      "image/png": "[encoded data removed]",
      "text/plain": [
       "<Figure size 640x480 with 1 Axes>"
      ]
     },
     "metadata": {},
     "output_type": "display_data"
    }
   ],
   "source": [
    "plt.pie([40,30,20])\n",
    "plt.savefig(\"pie_char\",dpi= 1000, quality=99, facecolor=\"g\")\n",
    "plt.show()"
   ]
  },
  {
   "cell_type": "code",
   "execution_count": null,
   "id": "b7f70a8f",
   "metadata": {},
   "outputs": [],
   "source": [
    "plt.pie([40,30,20])\n",
    "plt.savefig(\"pie_char\",dpi= 100, quality=99, facecolor=\"g\")\n",
    "plt.show()"
   ]
  },
  {
   "cell_type": "code",
   "execution_count": null,
   "id": "4e17afb0",
   "metadata": {},
   "outputs": [],
   "source": [
    "plt.figure(figsize=(9,9))\n",
    "#-----------------------------------------------------------------------start\n",
    "plt.subplot(321)\n",
    "plt.subplot(3,2,1)\n",
    "days = [1,2,3,4,5,6,7,8,9,10,11,12,13,14,15]   \n",
    "delhi_temp = [36.6, 37,37.7,39,40.1,43,43.4,45,45.6,40.1,44,45,46.8,47,47.8]\n",
    "mumbai_temp=[39,39.4,40,40.7,41,42.5,43.5,44,44.9,44,45,45.1,46,47,46]\n",
    "\n",
    "plt.plot(days, delhi_temp, \"wo--\",linewidth=\"3\", markersize=10, label=\"Delhi Temp\")\n",
    "\n",
    "plt.plot(days, mumbai_temp, \"yo:\",linewidth=\"3\", markersize=10, label=\"Mumbai Temp\")\n",
    "\n",
    "plt.title(\"Delhi and Mumbai Temperature\", fontsize=18)\n",
    "plt.xlabel(\"days\",fontsize=13)\n",
    "plt.ylabel(\"temperature\",fontsize=13)\n",
    "plt.legend(loc= 4 )\n",
    "plt.grid(color=\"k\", linestyle='-.', linewidth=2)\n",
    "#-------------------------------------------------------------------end\n",
    "plt.subplot(3,2,2)##------------------------------------------------start\n",
    "#**********************************************************************histogram\n",
    "ml_students_age= np.random.randint(18,45,(100))\n",
    "py_students_age= np.random.randint(15,40,(100))\n",
    "bins=[15,20,25,30,35,40,45]\n",
    "\n",
    "#plt.figure(figsize=(16,8))\n",
    "plt.hist ([ml_students_age,py_students_age],bins, rwidth=0.8, histtype=\"bar\", orientation=\"vertical\", color=[\"b\",\"k\"], label=[\"ML STUDENT\",\"PY STUDENT\"])\n",
    "#plt.hist (py_students_age,bins, rwidth=0.8, histtype=\"bar\", orientation=\"vertical\", color=\"k\", label=\"PY STUDENT\")\n",
    "\n",
    "plt.title(\"ML STUDENTS AGE HISTOGRAM\")\n",
    "plt.xlabel(\"students age category\")\n",
    "plt.ylabel(\"No. of students age\")\n",
    "plt.legend()\n",
    "#-----------------------------------------------------------------end\n",
    "#-----------------------------------------------------------------start\n",
    "plt.subplot(3,2,3)\n",
    "\n",
    "classes =[\"Py\",\"R\",\"AI\",\"ML\",\"DS\"]\n",
    "class1_studs =[30,10,20,25,10]\n",
    "class2_studs =[40,5,20,20,10]\n",
    "class3_studs =[35,5,30,15,15]\n",
    "classes_index = np.arange(len(classes))\n",
    "\n",
    "width=0.2\n",
    "\n",
    "plt.barh(classes_index, class1_studs,width,color=\"k\",label=\"Class 1 Students\")#visible=False\n",
    "\n",
    "plt.barh(classes_index + width, class2_studs,width,color=\"grey\",label=\"Class 2 Students\")\n",
    "\n",
    "plt.barh(classes_index + width +width , class3_studs,width,color=\"b\", label=\"Class 3 Students\")\n",
    "\n",
    "plt.xticks(classes_index+ width,classes , rotation =22) \n",
    "plt.title(\"Bar Chart of IAIP Class\", fontsize= 12)\n",
    "plt.xlabel(\"classes\", fontsize= 12)\n",
    "plt.ylabel(\"No. of Students\",fontsize= 12)\n",
    "plt.legend()\n",
    "#-------------------------------------------------------------------end\n",
    "#------------------------------------------------------------------start\n",
    "plt.subplot(3,2,4)\n",
    "\n",
    "df= pd.read_csv(r\"C:\\Users\\Naina Sahu\\Downloads\\archive (4)\\googleplaystore.csv\")\n",
    "x= df[\"Rating\"]\n",
    "y= df[\"Reviews\"]\n",
    "plt.scatter(x,y, c=\"k\", marker = \"*\", s= 100, alpha= 0.5, linewidths=5, edgecolors=\"b\")#verts=\"<\"\n",
    "\n",
    "plt.scatter(x,df[\"Installs\"], c=\"b\", marker = \"o\", s= 100, alpha= 0.5, linewidths=5, edgecolors=\"c\")\n",
    "            \n",
    "plt.title(\"Google Play Store Apps Scatter Plot\")\n",
    "plt.xlabel(\"Rating\")\n",
    "plt.ylabel(\"Reviews and Installs\")\n",
    "#-------------------------------------------------------------------end\n",
    "#-------------------------------------------------------------------start\n",
    "plt.subplot(3,2,5)\n",
    "classes =[\"Py\",\"R\",\"AI\",\"ML\",\"DS\"]\n",
    "class1_studs =[45,15,35,25,30]\n",
    "explode=[0.03,0,0.1,0,0]\n",
    "colors= [\"c\",\"b\",\"r\",\"y\",\"g\"]\n",
    "textprops={\"fontsize\":14}\n",
    "\n",
    "\n",
    "plt.pie(class1_studs, labels= classes, explode= explode, colors = colors, autopct= \"%0.1f%%\", shadow =True, radius =1.4, startangle=180,textprops = textprops)\n",
    "plt.show()\n",
    "wedgeprops={\"linewidth\":4, 'width':1, \"edgecolor\": \"k\"}\n",
    "plt.pie(\n",
    "         class1_studs,\n",
    "         explode=explode,\n",
    "         labels=classes,\n",
    "         colors=colors,\n",
    "         autopct=\"%0.2f%%\",\n",
    "         pctdistance=0.6,\n",
    "         shadow=False,\n",
    "         labeldistance=1.4,\n",
    "         startangle=270,\n",
    "         radius=1.1,\n",
    "         counterclock=True,\n",
    "         wedgeprops=wedgeprops,\n",
    "         textprops=textprops,\n",
    "         center=(2, 3),\n",
    "         frame=True,\n",
    "         rotatelabels=True\n",
    "         )\n",
    "plt.show()\n",
    "#-------------------------------------------------------------------end\n",
    "plt.subplot(3,2,6, projection='polar', facecolor=\"k\",frameon=False)\n",
    "\n",
    "plt.savefig(r\"C:\\Users\\Naina Sahu\\Downloads\\MATPLOTLIB\\pie_char.png\")\n",
    "\n",
    "plt.show()\n",
    "\n",
    "\n"
   ]
  },
  {
   "cell_type": "code",
   "execution_count": null,
   "id": "f1442c20",
   "metadata": {},
   "outputs": [],
   "source": []
  },
  {
   "cell_type": "code",
   "execution_count": null,
   "id": "f75cbc85",
   "metadata": {},
   "outputs": [],
   "source": []
  }
 ],
 "metadata": {
  "kernelspec": {
   "display_name": "Python 3 (ipykernel)",
   "language": "python",
   "name": "python3"
  },
  "language_info": {
   "codemirror_mode": {
    "name": "ipython",
    "version": 3
   },
   "file_extension": ".py",
   "mimetype": "text/x-python",
   "name": "python",
   "nbconvert_exporter": "python",
   "pygments_lexer": "ipython3",
   "version": "3.10.9"
  }
 },
 "nbformat": 4,
 "nbformat_minor": 5
}
